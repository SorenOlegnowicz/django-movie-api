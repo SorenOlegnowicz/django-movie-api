{
 "cells": [
  {
   "cell_type": "code",
   "execution_count": 1,
   "metadata": {
    "collapsed": true
   },
   "outputs": [],
   "source": [
    "import requests\n",
    "import json"
   ]
  },
  {
   "cell_type": "code",
   "execution_count": 13,
   "metadata": {
    "collapsed": false
   },
   "outputs": [],
   "source": [
    "first = requests.get('http://localhost:8000/movie_detail/4/')"
   ]
  },
  {
   "cell_type": "code",
   "execution_count": 16,
   "metadata": {
    "collapsed": false
   },
   "outputs": [],
   "source": [
    "second = requests.get('http://localhost:8000/movie_list/')"
   ]
  },
  {
   "cell_type": "code",
   "execution_count": 19,
   "metadata": {
    "collapsed": false
   },
   "outputs": [
    {
     "name": "stdout",
     "output_type": "stream",
     "text": [
      "b'<!DOCTYPE html>\\n<html>\\n<head lang=\"en\">\\n    <meta charset=\"UTF-8\">\\n    <title></title>\\n</head>\\n\\n<body>\\n<div style=\"text-align: center\">\\n    <a href=\"/\">Home</a>\\n    <a href=\"/movie_list/\">List</a>\\n    <a href=\"/create_movie/\">Create</a>\\n</div>\\n\\n\\n<div style=\"padding-top: 30px; text-align: center;\">\\n    \\n        <div><a href=\"/movie_detail/4/\">King Kong</a>\\n            <form method=\"POST\" action=\"/delete_movie/4/\">\\n                <input type=\\'hidden\\' name=\\'csrfmiddlewaretoken\\' value=\\'E3ZslLbV3ENaIZCFZEb6utidaMNCGeN5\\' />\\n                <button type=\"submit\">Delete</button>\\n            </form>\\n            <form method=\"GET\" action=\"/update_movie/4/\">\\n                <input type=\\'hidden\\' name=\\'csrfmiddlewaretoken\\' value=\\'E3ZslLbV3ENaIZCFZEb6utidaMNCGeN5\\' />\\n                <button type=\"submit\">Update</button>\\n            </form>\\n        </div>\\n    \\n        <div><a href=\"/movie_detail/5/\">Somebody to Love</a>\\n            <form method=\"POST\" action=\"/delete_movie/5/\">\\n                <input type=\\'hidden\\' name=\\'csrfmiddlewaretoken\\' value=\\'E3ZslLbV3ENaIZCFZEb6utidaMNCGeN5\\' />\\n                <button type=\"submit\">Delete</button>\\n            </form>\\n            <form method=\"GET\" action=\"/update_movie/5/\">\\n                <input type=\\'hidden\\' name=\\'csrfmiddlewaretoken\\' value=\\'E3ZslLbV3ENaIZCFZEb6utidaMNCGeN5\\' />\\n                <button type=\"submit\">Update</button>\\n            </form>\\n        </div>\\n    \\n        <div><a href=\"/movie_detail/6/\">Heart of Darkness</a>\\n            <form method=\"POST\" action=\"/delete_movie/6/\">\\n                <input type=\\'hidden\\' name=\\'csrfmiddlewaretoken\\' value=\\'E3ZslLbV3ENaIZCFZEb6utidaMNCGeN5\\' />\\n                <button type=\"submit\">Delete</button>\\n            </form>\\n            <form method=\"GET\" action=\"/update_movie/6/\">\\n                <input type=\\'hidden\\' name=\\'csrfmiddlewaretoken\\' value=\\'E3ZslLbV3ENaIZCFZEb6utidaMNCGeN5\\' />\\n                <button type=\"submit\">Update</button>\\n            </form>\\n        </div>\\n    \\n        <div><a href=\"/movie_detail/7/\">Angels and Demons</a>\\n            <form method=\"POST\" action=\"/delete_movie/7/\">\\n                <input type=\\'hidden\\' name=\\'csrfmiddlewaretoken\\' value=\\'E3ZslLbV3ENaIZCFZEb6utidaMNCGeN5\\' />\\n                <button type=\"submit\">Delete</button>\\n            </form>\\n            <form method=\"GET\" action=\"/update_movie/7/\">\\n                <input type=\\'hidden\\' name=\\'csrfmiddlewaretoken\\' value=\\'E3ZslLbV3ENaIZCFZEb6utidaMNCGeN5\\' />\\n                <button type=\"submit\">Update</button>\\n            </form>\\n        </div>\\n    \\n        <div><a href=\"/movie_detail/8/\">Aladdin</a>\\n            <form method=\"POST\" action=\"/delete_movie/8/\">\\n                <input type=\\'hidden\\' name=\\'csrfmiddlewaretoken\\' value=\\'E3ZslLbV3ENaIZCFZEb6utidaMNCGeN5\\' />\\n                <button type=\"submit\">Delete</button>\\n            </form>\\n            <form method=\"GET\" action=\"/update_movie/8/\">\\n                <input type=\\'hidden\\' name=\\'csrfmiddlewaretoken\\' value=\\'E3ZslLbV3ENaIZCFZEb6utidaMNCGeN5\\' />\\n                <button type=\"submit\">Update</button>\\n            </form>\\n        </div>\\n    \\n        <div><a href=\"/movie_detail/9/\">Tales from Agrabah</a>\\n            <form method=\"POST\" action=\"/delete_movie/9/\">\\n                <input type=\\'hidden\\' name=\\'csrfmiddlewaretoken\\' value=\\'E3ZslLbV3ENaIZCFZEb6utidaMNCGeN5\\' />\\n                <button type=\"submit\">Delete</button>\\n            </form>\\n            <form method=\"GET\" action=\"/update_movie/9/\">\\n                <input type=\\'hidden\\' name=\\'csrfmiddlewaretoken\\' value=\\'E3ZslLbV3ENaIZCFZEb6utidaMNCGeN5\\' />\\n                <button type=\"submit\">Update</button>\\n            </form>\\n        </div>\\n    \\n        <div><a href=\"/movie_detail/10/\">Titanic</a>\\n            <form method=\"POST\" action=\"/delete_movie/10/\">\\n                <input type=\\'hidden\\' name=\\'csrfmiddlewaretoken\\' value=\\'E3ZslLbV3ENaIZCFZEb6utidaMNCGeN5\\' />\\n                <button type=\"submit\">Delete</button>\\n            </form>\\n            <form method=\"GET\" action=\"/update_movie/10/\">\\n                <input type=\\'hidden\\' name=\\'csrfmiddlewaretoken\\' value=\\'E3ZslLbV3ENaIZCFZEb6utidaMNCGeN5\\' />\\n                <button type=\"submit\">Update</button>\\n            </form>\\n        </div>\\n    \\n</div>\\n\\n\\n\\n</body>\\n</html>'\n"
     ]
    }
   ],
   "source": [
    "print(second.content)"
   ]
  },
  {
   "cell_type": "code",
   "execution_count": null,
   "metadata": {
    "collapsed": true
   },
   "outputs": [],
   "source": []
  }
 ],
 "metadata": {
  "kernelspec": {
   "display_name": "Python 3",
   "language": "python",
   "name": "python3"
  },
  "language_info": {
   "codemirror_mode": {
    "name": "ipython",
    "version": 3
   },
   "file_extension": ".py",
   "mimetype": "text/x-python",
   "name": "python",
   "nbconvert_exporter": "python",
   "pygments_lexer": "ipython3",
   "version": "3.4.3"
  }
 },
 "nbformat": 4,
 "nbformat_minor": 0
}
